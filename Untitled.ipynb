{
 "cells": [
  {
   "cell_type": "markdown",
   "metadata": {},
   "source": [
    "# Clase 0.5 algo más sobre python "
   ]
  },
  {
   "cell_type": "code",
   "execution_count": null,
   "metadata": {},
   "outputs": [],
   "source": [
    "## Introducción a numpy\n",
    "\n",
    "import numpy as np\n",
    "\n",
    "## Introducción a pandas \n",
    "\n",
    "import pandas as pd \n",
    "\n",
    "\n",
    "\n",
    "## Ecuaciones con Markdown \n",
    "\n",
    "$\\hat{Y} = \\hat{\\beta}_{0} + \\sum \\limits _{j=1} ^{p} X_{j}\\hat{\\beta}_{j}$\n",
    "\n",
    "## Ejemplo práctico: Francis Galton y la regresión hacia la media \n",
    "\n",
    "import csv \n",
    "import requests\n",
    "\n",
    "url = \"http://www.randomservices.org/random/data/Galton.txt\"\n",
    "with requests.Session() as s:\n",
    "    download = s.get(url)\n",
    "    decoded_content = download.content.decode('utf-8')\n",
    "    data_iter = csv.reader(decoded_content.splitlines(), delimiter='\\t')\n",
    "data = [data for data in data_iter]\n",
    " \n",
    "df = pd.DataFrame(data[1:]) #skip first line\n",
    "df.columns = data[0]\n",
    "\n",
    "df\n",
    "\n",
    "X = df[\"Father\"]\n",
    "Y = df[\"Height\"]\n",
    "\n"
   ]
  }
 ],
 "metadata": {
  "kernelspec": {
   "display_name": "Python 3",
   "language": "python",
   "name": "python3"
  },
  "language_info": {
   "codemirror_mode": {
    "name": "ipython",
    "version": 3
   },
   "file_extension": ".py",
   "mimetype": "text/x-python",
   "name": "python",
   "nbconvert_exporter": "python",
   "pygments_lexer": "ipython3",
   "version": "3.8.5"
  }
 },
 "nbformat": 4,
 "nbformat_minor": 4
}
